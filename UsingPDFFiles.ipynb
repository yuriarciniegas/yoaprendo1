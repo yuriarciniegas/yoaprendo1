{
  "nbformat": 4,
  "nbformat_minor": 0,
  "metadata": {
    "colab": {
      "provenance": [],
      "include_colab_link": true
    },
    "kernelspec": {
      "name": "python3",
      "display_name": "Python 3"
    }
  },
  "cells": [
    {
      "cell_type": "markdown",
      "metadata": {
        "id": "view-in-github",
        "colab_type": "text"
      },
      "source": [
        "<a href=\"https://colab.research.google.com/github/yuriarciniegas/yoaprendo1/blob/master/UsingPDFFiles.ipynb\" target=\"_parent\"><img src=\"https://colab.research.google.com/assets/colab-badge.svg\" alt=\"Open In Colab\"/></a>"
      ]
    },
    {
      "cell_type": "markdown",
      "source": [
        "![image.png](data:image/png;base64,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)"
      ],
      "metadata": {
        "id": "o2s3BAUEF32K"
      }
    },
    {
      "cell_type": "markdown",
      "metadata": {
        "id": "IEGzJV6OjJzE"
      },
      "source": [
        "**1. Enable pdf reader (textract)**"
      ]
    },
    {
      "cell_type": "code",
      "metadata": {
        "id": "T7xEgNBio0gb"
      },
      "source": [
        "!pip install textract"
      ],
      "execution_count": null,
      "outputs": []
    },
    {
      "cell_type": "markdown",
      "metadata": {
        "id": "TXk98iGRjUjq"
      },
      "source": [
        "**2. Download pdf file**"
      ]
    },
    {
      "cell_type": "code",
      "metadata": {
        "id": "H58QheD3pfq9"
      },
      "source": [
        "\n",
        "import requests\n",
        "from pathlib import Path\n",
        "\n",
        "#url = \"https://minciencias.gov.co/sites/default/files/upload/convocatoria/anexo_no._1_-_perfil_citizen_data_scientist_caoba.pdf\"\n",
        "url = \"https://cuentosinfantiles.top/wp-content/uploads/cuentos_digital/El%20patito%20feo.pdf\"\n",
        "\n",
        "filename = Path('PatitoFeo.pdf')\n",
        "r = requests.get(url, stream=True)\n",
        "filename.write_bytes(r.content)"
      ],
      "execution_count": null,
      "outputs": []
    },
    {
      "cell_type": "markdown",
      "metadata": {
        "id": "MPyaPnADjegb"
      },
      "source": [
        "**3. Read PDF File**"
      ]
    },
    {
      "cell_type": "code",
      "metadata": {
        "id": "Wv2k5Se3olu2"
      },
      "source": [
        "import textract\n",
        "text = textract.process(\"PatitoFeo.pdf\")\n",
        "print(text)"
      ],
      "execution_count": null,
      "outputs": []
    },
    {
      "cell_type": "markdown",
      "metadata": {
        "id": "UKmPLS5ujnrL"
      },
      "source": [
        "**4. Preprocces text data**"
      ]
    },
    {
      "cell_type": "code",
      "metadata": {
        "id": "Vm0g8B0D0Uk-"
      },
      "source": [
        "import re\n",
        "\n",
        "text = text.decode(\"utf-8\")\n",
        "text = re.sub(r\"\\s+\", \" \", text)\n",
        "text = re.sub(r\"_\", \" \", text)\n",
        "\n",
        "print(text)"
      ],
      "execution_count": null,
      "outputs": []
    }
  ]
}