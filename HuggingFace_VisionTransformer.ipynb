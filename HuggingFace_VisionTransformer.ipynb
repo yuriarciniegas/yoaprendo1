{
  "nbformat": 4,
  "nbformat_minor": 0,
  "metadata": {
    "colab": {
      "provenance": [],
      "include_colab_link": true
    },
    "kernelspec": {
      "name": "python3",
      "display_name": "Python 3"
    },
    "language_info": {
      "name": "python"
    }
  },
  "cells": [
    {
      "cell_type": "markdown",
      "metadata": {
        "id": "view-in-github",
        "colab_type": "text"
      },
      "source": [
        "<a href=\"https://colab.research.google.com/github/yuriarciniegas/yoaprendo1/blob/master/HuggingFace_VisionTransformer.ipynb\" target=\"_parent\"><img src=\"https://colab.research.google.com/assets/colab-badge.svg\" alt=\"Open In Colab\"/></a>"
      ]
    },
    {
      "cell_type": "markdown",
      "source": [
        "![image.png](data:image/png;base64,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)"
      ],
      "metadata": {
        "id": "Bn6lT-7puBiT"
      }
    },
    {
      "cell_type": "markdown",
      "source": [
        "**Hugging Face Tasks:**\n",
        "https://huggingface.co/tasks\n",
        "\n",
        "**Hugging Face Models:**\n",
        "https://huggingface.co/models"
      ],
      "metadata": {
        "id": "pbzWNCkPR_kU"
      }
    },
    {
      "cell_type": "code",
      "execution_count": null,
      "metadata": {
        "id": "0MfFzuN51S2O"
      },
      "outputs": [],
      "source": [
        "!pip install transformers"
      ]
    },
    {
      "cell_type": "markdown",
      "source": [
        "**Image Classification**"
      ],
      "metadata": {
        "id": "VAqN8s4AawAh"
      }
    },
    {
      "cell_type": "code",
      "source": [
        "from transformers import pipeline\n",
        "\n",
        "#img_clf = pipeline(\"image-classification\", model=\"facebook/deit-base-distilled-patch16-384\")\n",
        "img_clf = pipeline(\"image-classification\", model=\"google/vit-base-patch16-224\")"
      ],
      "metadata": {
        "id": "R8Hq-l10a4L5"
      },
      "execution_count": null,
      "outputs": []
    },
    {
      "cell_type": "code",
      "source": [
        "img_clf(\"https://53.fs1.hubspotusercontent-na1.net/hub/53/hubfs/parts-url.jpg\")"
      ],
      "metadata": {
        "id": "vLR4s2Q4wGkO"
      },
      "execution_count": null,
      "outputs": []
    },
    {
      "cell_type": "markdown",
      "source": [
        "**Object Detection**"
      ],
      "metadata": {
        "id": "9pFwp9kiiJsD"
      }
    },
    {
      "cell_type": "code",
      "source": [
        "#After installa timm, you need restart the execution enviroment.\n",
        "!pip install timm"
      ],
      "metadata": {
        "id": "X4YRaqg4gIWO"
      },
      "execution_count": null,
      "outputs": []
    },
    {
      "cell_type": "code",
      "source": [
        "from transformers import pipeline\n",
        "\n",
        "obj_detect = pipeline(\"object-detection\", model=\"facebook/detr-resnet-50\")"
      ],
      "metadata": {
        "id": "XYV_OuI2f5yn"
      },
      "execution_count": null,
      "outputs": []
    },
    {
      "cell_type": "code",
      "source": [
        "results = obj_detect(\"https://www.gannett-cdn.com/presto/2019/05/14/PPHX/8a012916-44c0-42d2-b4e4-d4f3341fb13d-jet_2.jpg\")\n",
        "\n",
        "for result in results:\n",
        "  print(result['label'], \" : \",  result['score'])"
      ],
      "metadata": {
        "id": "MbiVVa71wNmV"
      },
      "execution_count": null,
      "outputs": []
    }
  ]
}